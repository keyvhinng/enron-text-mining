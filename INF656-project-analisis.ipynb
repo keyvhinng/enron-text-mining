{
 "cells": [
  {
   "cell_type": "markdown",
   "metadata": {},
   "source": [
    "# Dependencias"
   ]
  },
  {
   "cell_type": "code",
   "execution_count": 1,
   "metadata": {},
   "outputs": [],
   "source": [
    "import numpy as np \n",
    "import pandas as pd\n",
    "import nltk\n",
    "import matplotlib.pyplot as plt"
   ]
  },
  {
   "cell_type": "markdown",
   "metadata": {},
   "source": [
    "# Load Data"
   ]
  },
  {
   "cell_type": "code",
   "execution_count": 2,
   "metadata": {},
   "outputs": [
    {
     "name": "stdout",
     "output_type": "stream",
     "text": [
      "(11091, 11)\n"
     ]
    }
   ],
   "source": [
    "data = pd.read_csv('./mails_cleaned_v2.csv')\n",
    "print(data.shape)"
   ]
  },
  {
   "cell_type": "code",
   "execution_count": 3,
   "metadata": {},
   "outputs": [],
   "source": [
    "# tmp\n",
    "data = data.head(n=1500)"
   ]
  },
  {
   "cell_type": "code",
   "execution_count": 4,
   "metadata": {},
   "outputs": [
    {
     "name": "stdout",
     "output_type": "stream",
     "text": [
      "(1500, 8)\n"
     ]
    },
    {
     "data": {
      "text/html": [
       "<div>\n",
       "<style scoped>\n",
       "    .dataframe tbody tr th:only-of-type {\n",
       "        vertical-align: middle;\n",
       "    }\n",
       "\n",
       "    .dataframe tbody tr th {\n",
       "        vertical-align: top;\n",
       "    }\n",
       "\n",
       "    .dataframe thead th {\n",
       "        text-align: right;\n",
       "    }\n",
       "</style>\n",
       "<table border=\"1\" class=\"dataframe\">\n",
       "  <thead>\n",
       "    <tr style=\"text-align: right;\">\n",
       "      <th></th>\n",
       "      <th>file</th>\n",
       "      <th>Message-ID</th>\n",
       "      <th>Date</th>\n",
       "      <th>From</th>\n",
       "      <th>To</th>\n",
       "      <th>Subject</th>\n",
       "      <th>body</th>\n",
       "      <th>body_clean</th>\n",
       "    </tr>\n",
       "  </thead>\n",
       "  <tbody>\n",
       "    <tr>\n",
       "      <th>0</th>\n",
       "      <td>allen-p/_sent_mail/105.</td>\n",
       "      <td>&lt;13116875.1075855687561.JavaMail.evans@thyme&gt;</td>\n",
       "      <td>2000-10-09 14:16:00</td>\n",
       "      <td>{'phillip.allen@enron.com'}</td>\n",
       "      <td>{'keith.holst@enron.com'}</td>\n",
       "      <td>Consolidated positions: Issues &amp; To Do list</td>\n",
       "      <td>---------------------- Forwarded by Phillip K ...</td>\n",
       "      <td>from our initial set of meetings with the trad...</td>\n",
       "    </tr>\n",
       "    <tr>\n",
       "      <th>1</th>\n",
       "      <td>allen-p/_sent_mail/106.</td>\n",
       "      <td>&lt;2707340.1075855687584.JavaMail.evans@thyme&gt;</td>\n",
       "      <td>2000-10-09 14:00:00</td>\n",
       "      <td>{'phillip.allen@enron.com'}</td>\n",
       "      <td>{'keith.holst@enron.com'}</td>\n",
       "      <td>Consolidated positions: Issues &amp; To Do list</td>\n",
       "      <td>---------------------- Forwarded by Phillip K ...</td>\n",
       "      <td>from our initial set of meetings with the trad...</td>\n",
       "    </tr>\n",
       "    <tr>\n",
       "      <th>2</th>\n",
       "      <td>allen-p/_sent_mail/140.</td>\n",
       "      <td>&lt;2751799.1075855688335.JavaMail.evans@thyme&gt;</td>\n",
       "      <td>2000-09-11 16:57:00</td>\n",
       "      <td>{'phillip.allen@enron.com'}</td>\n",
       "      <td>{'keith.holst@enron.com'}</td>\n",
       "      <td>Westgate Proforma-Phillip Allen.xls</td>\n",
       "      <td>---------------------- Forwarded by Phillip K ...</td>\n",
       "      <td>enclosed is the preliminary proforma for the w...</td>\n",
       "    </tr>\n",
       "    <tr>\n",
       "      <th>3</th>\n",
       "      <td>allen-p/_sent_mail/18.</td>\n",
       "      <td>&lt;22040365.1075855378763.JavaMail.evans@thyme&gt;</td>\n",
       "      <td>2001-04-30 21:22:00</td>\n",
       "      <td>{'phillip.allen@enron.com'}</td>\n",
       "      <td>{'keith.holst@enron.com'}</td>\n",
       "      <td>Request from Steve Kean</td>\n",
       "      <td>\\n---------------------- Forwarded by Phillip ...</td>\n",
       "      <td>alan steve has asked that you update the power...</td>\n",
       "    </tr>\n",
       "    <tr>\n",
       "      <th>4</th>\n",
       "      <td>allen-p/_sent_mail/19.</td>\n",
       "      <td>&lt;25043030.1075855378785.JavaMail.evans@thyme&gt;</td>\n",
       "      <td>2001-04-30 20:37:00</td>\n",
       "      <td>{'phillip.allen@enron.com'}</td>\n",
       "      <td>{'keith.holst@enron.com'}</td>\n",
       "      <td>Request from Steve Kean</td>\n",
       "      <td>\\n---------------------- Forwarded by Phillip ...</td>\n",
       "      <td>alan steve has asked that you update the power...</td>\n",
       "    </tr>\n",
       "  </tbody>\n",
       "</table>\n",
       "</div>"
      ],
      "text/plain": [
       "                      file                                     Message-ID  \\\n",
       "0  allen-p/_sent_mail/105.  <13116875.1075855687561.JavaMail.evans@thyme>   \n",
       "1  allen-p/_sent_mail/106.   <2707340.1075855687584.JavaMail.evans@thyme>   \n",
       "2  allen-p/_sent_mail/140.   <2751799.1075855688335.JavaMail.evans@thyme>   \n",
       "3   allen-p/_sent_mail/18.  <22040365.1075855378763.JavaMail.evans@thyme>   \n",
       "4   allen-p/_sent_mail/19.  <25043030.1075855378785.JavaMail.evans@thyme>   \n",
       "\n",
       "                  Date                         From  \\\n",
       "0  2000-10-09 14:16:00  {'phillip.allen@enron.com'}   \n",
       "1  2000-10-09 14:00:00  {'phillip.allen@enron.com'}   \n",
       "2  2000-09-11 16:57:00  {'phillip.allen@enron.com'}   \n",
       "3  2001-04-30 21:22:00  {'phillip.allen@enron.com'}   \n",
       "4  2001-04-30 20:37:00  {'phillip.allen@enron.com'}   \n",
       "\n",
       "                          To                                      Subject  \\\n",
       "0  {'keith.holst@enron.com'}  Consolidated positions: Issues & To Do list   \n",
       "1  {'keith.holst@enron.com'}  Consolidated positions: Issues & To Do list   \n",
       "2  {'keith.holst@enron.com'}          Westgate Proforma-Phillip Allen.xls   \n",
       "3  {'keith.holst@enron.com'}                      Request from Steve Kean   \n",
       "4  {'keith.holst@enron.com'}                      Request from Steve Kean   \n",
       "\n",
       "                                                body  \\\n",
       "0  ---------------------- Forwarded by Phillip K ...   \n",
       "1  ---------------------- Forwarded by Phillip K ...   \n",
       "2  ---------------------- Forwarded by Phillip K ...   \n",
       "3  \\n---------------------- Forwarded by Phillip ...   \n",
       "4  \\n---------------------- Forwarded by Phillip ...   \n",
       "\n",
       "                                          body_clean  \n",
       "0  from our initial set of meetings with the trad...  \n",
       "1  from our initial set of meetings with the trad...  \n",
       "2  enclosed is the preliminary proforma for the w...  \n",
       "3  alan steve has asked that you update the power...  \n",
       "4  alan steve has asked that you update the power...  "
      ]
     },
     "execution_count": 4,
     "metadata": {},
     "output_type": "execute_result"
    }
   ],
   "source": [
    "data=data.drop(columns=['Unnamed: 0','X-cc','X-bcc'])\n",
    "data=data.dropna(axis=0,subset=['body'],how='any')\n",
    "print(data.shape)\n",
    "data.head()"
   ]
  },
  {
   "cell_type": "markdown",
   "metadata": {},
   "source": [
    "# Pre-Procesamiento"
   ]
  },
  {
   "cell_type": "code",
   "execution_count": 5,
   "metadata": {},
   "outputs": [],
   "source": [
    "import re\n",
    "def clean_from_mails(message):\n",
    "  mail_addresses = re.findall(r'\\(?[A-Za-z0-9_\\-\\.]+@[A-Za-zb0-9_\\-\\.]+\\.com\\)?',message)\n",
    "  if mail_addresses != []:\n",
    "    for mail_address in mail_addresses:\n",
    "      message=message.replace(mail_address,'').strip()\n",
    "  return message"
   ]
  },
  {
   "cell_type": "code",
   "execution_count": 6,
   "metadata": {},
   "outputs": [],
   "source": [
    "# Eliminar emails del body\n",
    "data['body_clean']=data['body'].map(clean_from_mails)"
   ]
  },
  {
   "cell_type": "code",
   "execution_count": 7,
   "metadata": {},
   "outputs": [],
   "source": [
    "# Eliminar palabras con digitos y signos de puntuacion\n",
    "data['body_clean']=data['body_clean'].map(lambda x: ' '.join(re.sub(r'[^a-zA-Z]',' ',x).split()))"
   ]
  },
  {
   "cell_type": "code",
   "execution_count": 8,
   "metadata": {},
   "outputs": [],
   "source": [
    "# Pasar todo a minusculas\n",
    "data['body_clean']=data['body_clean'].map(lambda x: x.lower())"
   ]
  },
  {
   "cell_type": "markdown",
   "metadata": {},
   "source": [
    "## Stopwords"
   ]
  },
  {
   "cell_type": "code",
   "execution_count": 9,
   "metadata": {},
   "outputs": [
    {
     "name": "stdout",
     "output_type": "stream",
     "text": [
      "[nltk_data] Downloading package stopwords to /home/kref/nltk_data...\n",
      "[nltk_data]   Package stopwords is already up-to-date!\n"
     ]
    },
    {
     "data": {
      "text/plain": [
       "True"
      ]
     },
     "execution_count": 9,
     "metadata": {},
     "output_type": "execute_result"
    }
   ],
   "source": [
    "from nltk.corpus import stopwords\n",
    "nltk.download('stopwords')"
   ]
  },
  {
   "cell_type": "code",
   "execution_count": 10,
   "metadata": {},
   "outputs": [
    {
     "name": "stdout",
     "output_type": "stream",
     "text": [
      "Stopwords final (208):\n",
      "['i', 'me', 'my', 'myself', 'we', 'our', 'ours', 'ourselves', 'you', \"you're\", \"you've\", \"you'll\", \"you'd\", 'your', 'yours', 'yourself', 'yourselves', 'he', 'him', 'his', 'himself', 'she', \"she's\", 'her', 'hers', 'herself', 'it', \"it's\", 'its', 'itself', 'they', 'them', 'their', 'theirs', 'themselves', 'what', 'which', 'who', 'whom', 'this', 'that', \"that'll\", 'these', 'those', 'am', 'is', 'are', 'was', 'were', 'be', 'been', 'being', 'have', 'has', 'had', 'having', 'do', 'does', 'did', 'doing', 'a', 'an', 'the', 'and', 'but', 'if', 'or', 'because', 'as', 'until', 'while', 'of', 'at', 'by', 'for', 'with', 'about', 'against', 'between', 'into', 'through', 'during', 'before', 'after', 'above', 'below', 'to', 'from', 'up', 'down', 'in', 'out', 'on', 'off', 'over', 'under', 'again', 'further', 'then', 'once', 'here', 'there', 'when', 'where', 'why', 'how', 'all', 'any', 'both', 'each', 'few', 'more', 'most', 'other', 'some', 'such', 'no', 'nor', 'not', 'only', 'own', 'same', 'so', 'than', 'too', 'very', 's', 't', 'can', 'will', 'just', 'don', \"don't\", 'should', \"should've\", 'now', 'd', 'll', 'm', 'o', 're', 've', 'y', 'ain', 'aren', \"aren't\", 'couldn', \"couldn't\", 'didn', \"didn't\", 'doesn', \"doesn't\", 'hadn', \"hadn't\", 'hasn', \"hasn't\", 'haven', \"haven't\", 'isn', \"isn't\", 'ma', 'mightn', \"mightn't\", 'mustn', \"mustn't\", 'needn', \"needn't\", 'shan', \"shan't\", 'shouldn', \"shouldn't\", 'wasn', \"wasn't\", 'weren', \"weren't\", 'won', \"won't\", 'wouldn', \"wouldn't\", 'a', 'b', 'c', 'd', 'e', 'f', 'g', 'h', 'i', 'j', 'k', 'l', 'm', 'n', 'o', 'p', 'q', 'r', 's', 't', 'u', 'v', 'w', 'x', 'y', 'z', 'also', 'please', 'would']\n"
     ]
    }
   ],
   "source": [
    "my_stopwords = stopwords.words('english')\n",
    "# Excluir palabras de una sola letra\n",
    "for i in range(ord('a'),ord('z')+1):\n",
    "  my_stopwords.append(chr(i))\n",
    "# Añadir would\n",
    "my_stopwords = my_stopwords + ['also','please','would']\n",
    "print(f'Stopwords final ({len(my_stopwords)}):')\n",
    "print(my_stopwords)"
   ]
  },
  {
   "cell_type": "code",
   "execution_count": 11,
   "metadata": {},
   "outputs": [],
   "source": [
    "def clean_msg_stopwords(message_body):\n",
    "    words = message_body.split()\n",
    "    words = [w for w in words if w not in set(my_stopwords)]\n",
    "    return ' '.join(words)"
   ]
  },
  {
   "cell_type": "code",
   "execution_count": 12,
   "metadata": {},
   "outputs": [],
   "source": [
    "# Eliminar stopwords\n",
    "data['body_clean']=data.body_clean.apply(clean_msg_stopwords)"
   ]
  },
  {
   "cell_type": "code",
   "execution_count": 13,
   "metadata": {},
   "outputs": [
    {
     "name": "stdout",
     "output_type": "stream",
     "text": [
      "(1500, 8)\n"
     ]
    }
   ],
   "source": [
    "data=data.dropna(axis=0,subset=['body_clean'],how='any')\n",
    "print(data.shape)"
   ]
  },
  {
   "cell_type": "markdown",
   "metadata": {},
   "source": [
    "## Tokenizacion"
   ]
  },
  {
   "cell_type": "code",
   "execution_count": 14,
   "metadata": {},
   "outputs": [
    {
     "name": "stdout",
     "output_type": "stream",
     "text": [
      "[nltk_data] Downloading package punkt to /home/kref/nltk_data...\n",
      "[nltk_data]   Package punkt is already up-to-date!\n"
     ]
    },
    {
     "data": {
      "text/plain": [
       "True"
      ]
     },
     "execution_count": 14,
     "metadata": {},
     "output_type": "execute_result"
    }
   ],
   "source": [
    "from nltk.tokenize import word_tokenize\n",
    "nltk.download('punkt')"
   ]
  },
  {
   "cell_type": "code",
   "execution_count": 15,
   "metadata": {},
   "outputs": [],
   "source": [
    "word_vector = []\n",
    "for doc in data['body_clean']:\n",
    "  word_vector.append(doc.split())\n",
    "my_vocabulary = [item for sublist in word_vector for item in sublist]"
   ]
  },
  {
   "cell_type": "code",
   "execution_count": 16,
   "metadata": {},
   "outputs": [
    {
     "name": "stdout",
     "output_type": "stream",
     "text": [
      "El vocabulario consta de 391171 elementos y 12787 palabras diferentes.\n"
     ]
    }
   ],
   "source": [
    "print(f'El vocabulario consta de {len(my_vocabulary)} elementos y {len(set(my_vocabulary))} palabras diferentes.')"
   ]
  },
  {
   "cell_type": "markdown",
   "metadata": {},
   "source": [
    "## Lematizacion"
   ]
  },
  {
   "cell_type": "code",
   "execution_count": 17,
   "metadata": {},
   "outputs": [],
   "source": [
    "from collections import Counter"
   ]
  },
  {
   "cell_type": "code",
   "execution_count": 18,
   "metadata": {},
   "outputs": [
    {
     "name": "stdout",
     "output_type": "stream",
     "text": [
      "[nltk_data] Downloading package wordnet to /home/kref/nltk_data...\n",
      "[nltk_data]   Package wordnet is already up-to-date!\n"
     ]
    },
    {
     "data": {
      "text/plain": [
       "True"
      ]
     },
     "execution_count": 18,
     "metadata": {},
     "output_type": "execute_result"
    }
   ],
   "source": [
    "nltk.download('wordnet')"
   ]
  },
  {
   "cell_type": "code",
   "execution_count": 19,
   "metadata": {},
   "outputs": [],
   "source": [
    "from nltk.stem.wordnet import WordNetLemmatizer\n",
    "lemma = WordNetLemmatizer()\n",
    "\n",
    "def lemmatize_body(message_body):\n",
    "  return ' '.join(lemma.lemmatize(word) for word in message_body.split())"
   ]
  },
  {
   "cell_type": "code",
   "execution_count": 20,
   "metadata": {},
   "outputs": [],
   "source": [
    "lemma_vector = []\n",
    "for doc in data['body_clean']:\n",
    "  lemma_vector.append(lemmatize_body(doc).split())\n",
    "my_lema_voc = [item for sublist in lemma_vector for item in sublist]"
   ]
  },
  {
   "cell_type": "code",
   "execution_count": 21,
   "metadata": {},
   "outputs": [
    {
     "name": "stdout",
     "output_type": "stream",
     "text": [
      "El vocabulario de lemas consta de 391171 elementos y 11668 palabras diferentes.\n"
     ]
    }
   ],
   "source": [
    "print(f'El vocabulario de lemas consta de {len(my_lema_voc)} elementos y {len(set(my_lema_voc))} palabras diferentes.')"
   ]
  },
  {
   "cell_type": "code",
   "execution_count": 22,
   "metadata": {},
   "outputs": [],
   "source": [
    "data['body_lemma'] = data['body_clean'].map(lemmatize_body)"
   ]
  },
  {
   "cell_type": "code",
   "execution_count": 23,
   "metadata": {},
   "outputs": [
    {
     "data": {
      "text/plain": [
       "'office new year begin informal fundies meeting day cover happened market since filed bankruptcy go pipeline flow storage balance weather monthly daily price etc bank showing interest showing bid thought good u begin preparation trade market chris gaskill providing daily packet patti sullivan provide daily operation report thinking start around morning grigsby'"
      ]
     },
     "execution_count": 23,
     "metadata": {},
     "output_type": "execute_result"
    }
   ],
   "source": [
    "data['body_lemma'][70]"
   ]
  },
  {
   "cell_type": "markdown",
   "metadata": {},
   "source": [
    "# Vectorizacion"
   ]
  },
  {
   "cell_type": "code",
   "execution_count": 24,
   "metadata": {},
   "outputs": [],
   "source": [
    "from sklearn.feature_extraction.text import TfidfVectorizer"
   ]
  },
  {
   "cell_type": "code",
   "execution_count": 25,
   "metadata": {},
   "outputs": [],
   "source": [
    "word_vector = []\n",
    "for doc in data['body_lemma']:\n",
    "  word_vector.append(doc.split())\n",
    "my_vocabulary = [item for sublist in word_vector for item in sublist]"
   ]
  },
  {
   "cell_type": "code",
   "execution_count": 27,
   "metadata": {},
   "outputs": [
    {
     "data": {
      "text/plain": [
       "'office new year begin informal fundies meeting day cover happened market since filed bankruptcy go pipeline flow storage balance weather monthly daily price etc bank showing interest showing bid thought good u begin preparation trade market chris gaskill providing daily packet patti sullivan provide daily operation report thinking start around morning grigsby'"
      ]
     },
     "execution_count": 27,
     "metadata": {},
     "output_type": "execute_result"
    }
   ],
   "source": [
    "data['body_lemma'][70]"
   ]
  },
  {
   "cell_type": "markdown",
   "metadata": {},
   "source": [
    "# Similaridad de Documentos"
   ]
  },
  {
   "cell_type": "code",
   "execution_count": 28,
   "metadata": {},
   "outputs": [],
   "source": [
    "import gensim"
   ]
  },
  {
   "cell_type": "code",
   "execution_count": 29,
   "metadata": {},
   "outputs": [],
   "source": [
    "dictionary = gensim.corpora.Dictionary(word_vector)"
   ]
  },
  {
   "cell_type": "code",
   "execution_count": 30,
   "metadata": {},
   "outputs": [
    {
     "name": "stdout",
     "output_type": "stream",
     "text": [
      "1238\n"
     ]
    }
   ],
   "source": [
    "print(dictionary.token2id['office'])"
   ]
  },
  {
   "cell_type": "code",
   "execution_count": 31,
   "metadata": {},
   "outputs": [
    {
     "data": {
      "text/plain": [
       "'office'"
      ]
     },
     "execution_count": 31,
     "metadata": {},
     "output_type": "execute_result"
    }
   ],
   "source": [
    "dictionary[1238]"
   ]
  },
  {
   "cell_type": "code",
   "execution_count": 32,
   "metadata": {},
   "outputs": [
    {
     "name": "stdout",
     "output_type": "stream",
     "text": [
      "Number of words in dictionary: 11668\n"
     ]
    }
   ],
   "source": [
    "print(\"Number of words in dictionary:\",len(dictionary))"
   ]
  },
  {
   "cell_type": "code",
   "execution_count": 33,
   "metadata": {},
   "outputs": [],
   "source": [
    "corpus = [dictionary.doc2bow(gen_doc) for gen_doc in word_vector]"
   ]
  },
  {
   "cell_type": "code",
   "execution_count": 35,
   "metadata": {},
   "outputs": [
    {
     "name": "stdout",
     "output_type": "stream",
     "text": [
      "TfidfModel(num_docs=1500, num_nnz=142005)\n"
     ]
    }
   ],
   "source": [
    "tf_idf = gensim.models.TfidfModel(corpus)\n",
    "print(tf_idf)"
   ]
  },
  {
   "cell_type": "markdown",
   "metadata": {},
   "source": [
    "## Analisis de Clusters"
   ]
  },
  {
   "cell_type": "code",
   "execution_count": 37,
   "metadata": {},
   "outputs": [],
   "source": [
    "from sklearn.decomposition import PCA\n",
    "from sklearn.cluster import KMeans\n",
    "from sklearn.preprocessing import Normalizer\n",
    "from sklearn.pipeline import make_pipeline\n",
    "from gensim.models import Doc2Vec\n",
    "from gensim.models.doc2vec import TaggedDocument"
   ]
  },
  {
   "cell_type": "code",
   "execution_count": 38,
   "metadata": {},
   "outputs": [],
   "source": [
    "lema_counts = Counter(my_vocabulary)"
   ]
  },
  {
   "cell_type": "code",
   "execution_count": 39,
   "metadata": {},
   "outputs": [],
   "source": [
    "df_lema = pd.DataFrame.from_dict(lema_counts, orient='index')"
   ]
  },
  {
   "cell_type": "code",
   "execution_count": 40,
   "metadata": {},
   "outputs": [],
   "source": [
    "df_lema=df_lema.reset_index()\n",
    "df_lema.columns=['word','freq']"
   ]
  },
  {
   "cell_type": "code",
   "execution_count": 41,
   "metadata": {},
   "outputs": [],
   "source": [
    "vectorizer = TfidfVectorizer(vocabulary=df_lema['word'],max_df=0.5,min_df=2)\n",
    "analysis_df = data['body_lemma']\n",
    "tf_idf_m = vectorizer.fit_transform(analysis_df.tolist())"
   ]
  },
  {
   "cell_type": "code",
   "execution_count": 42,
   "metadata": {},
   "outputs": [
    {
     "data": {
      "image/png": "[encoded data removed]",
      "text/plain": [
       "<matplotlib.figure.Figure at 0x7ffb09161898>"
      ]
     },
     "metadata": {},
     "output_type": "display_data"
    }
   ],
   "source": [
    "from sklearn.decomposition import PCA\n",
    "%matplotlib inline\n",
    "\n",
    "n=2\n",
    "tf_idf_dense = tf_idf_m.todense()\n",
    "coords = PCA(n_components=n).fit_transform(tf_idf_dense)\n",
    "\n",
    "plt.scatter(coords[:, 0], coords[:, 1], c='m')\n",
    "plt.show()"
   ]
  },
  {
   "cell_type": "code",
   "execution_count": 54,
   "metadata": {},
   "outputs": [],
   "source": [
    "n_clusters = 8\n",
    "normalizer = Normalizer(copy=False)\n",
    "clf = KMeans(n_clusters=n_clusters, max_iter=100, init='k-means++', n_init=1)\n",
    "spherical_kmeans = make_pipeline(normalizer, clf)\n",
    "labels = clf.fit_predict(tf_idf_m)"
   ]
  },
  {
   "cell_type": "code",
   "execution_count": 55,
   "metadata": {},
   "outputs": [
    {
     "data": {
      "image/png": "[encoded data removed]",
      "text/plain": [
       "<matplotlib.figure.Figure at 0x7ffae844e908>"
      ]
     },
     "metadata": {},
     "output_type": "display_data"
    }
   ],
   "source": [
    "label = [\"#e05f14\", \"#e0dc14\", \"#2fe014\", \"#14d2e0\",\"#ee82ee\",\"#ff9edd\",\"#800000\",\"#800080\"]\n",
    "color = [label[i] for i in labels]\n",
    "plt.scatter(coords[:, 0], coords[:, 1], c=color)\n",
    "\n",
    "centroids = clf.cluster_centers_\n",
    "centroidpoint = PCA(n_components=n).fit(tf_idf_dense).transform(centroids)\n",
    "plt.scatter(centroidpoint[:, 0], centroidpoint[:, 1], marker='^', s=150, c='#000000')\n",
    "\n",
    "plt.show()"
   ]
  },
  {
   "cell_type": "markdown",
   "metadata": {},
   "source": [
    "## Procesamiento Similaridad"
   ]
  },
  {
   "cell_type": "code",
   "execution_count": 56,
   "metadata": {},
   "outputs": [
    {
     "name": "stderr",
     "output_type": "stream",
     "text": [
      "/home/kref/anaconda3/lib/python3.6/site-packages/gensim/matutils.py:718: FutureWarning: Conversion of the second argument of issubdtype from `int` to `np.signedinteger` is deprecated. In future, it will be treated as `np.int64 == np.dtype(int).type`.\n",
      "  if np.issubdtype(vec.dtype, np.int):\n"
     ]
    },
    {
     "name": "stdout",
     "output_type": "stream",
     "text": [
      "Similarity index with 1500 documents in 0 shards (stored under ./)\n",
      "<class 'gensim.similarities.docsim.Similarity'>\n"
     ]
    }
   ],
   "source": [
    "sims = gensim.similarities.Similarity('./',tf_idf[corpus],\n",
    "                                      num_features=len(dictionary))\n",
    "print(sims)\n",
    "print(type(sims))"
   ]
  },
  {
   "cell_type": "markdown",
   "metadata": {},
   "source": [
    "### Query"
   ]
  },
  {
   "cell_type": "code",
   "execution_count": 57,
   "metadata": {},
   "outputs": [],
   "source": [
    "def make_query_tf_idf(query):\n",
    "    query_doc = [w.lower() for w in word_tokenize(query)]\n",
    "    query_doc_bow = dictionary.doc2bow(query_doc)\n",
    "    return tf_idf[query_doc_bow]"
   ]
  },
  {
   "cell_type": "code",
   "execution_count": 58,
   "metadata": {},
   "outputs": [],
   "source": [
    "def get_n_most_similar(mail_id, n):\n",
    "  query = data['body_lemma'][mail_id]\n",
    "  print('------------------------ [ Query ] ------------------------')\n",
    "  print(data['body'][mail_id])\n",
    "  ranking = sims[make_query_tf_idf(query)]\n",
    "  sim_w_index = list(enumerate(ranking))\n",
    "  x = [t[0] for t in list(reversed(sorted(sim_w_index,key=lambda x: x[1])))]\n",
    "  print()\n",
    "  print('---------- [ Most similar emails (index, score)] ----------')\n",
    "  print(list(reversed(sorted(sim_w_index,key=lambda x: x[1])))[:n])\n",
    "  print()\n",
    "  print('------------------------ [ emails] ------------------------')\n",
    "  for ind in x[:n]:\n",
    "    print('From: {}'.format(data['From'][ind]))\n",
    "    print('To: {}'.format(data['To'][ind]))\n",
    "    print(data['body'][ind])\n",
    "    print('---------------------------------------------------------')\n",
    "  return x[:n]"
   ]
  },
  {
   "cell_type": "code",
   "execution_count": 59,
   "metadata": {},
   "outputs": [
    {
     "data": {
      "text/plain": [
       "'office new year begin informal fundies meeting day cover happened market since filed bankruptcy go pipeline flow storage balance weather monthly daily price etc bank showing interest showing bid thought good u begin preparation trade market chris gaskill providing daily packet patti sullivan provide daily operation report thinking start around morning grigsby'"
      ]
     },
     "execution_count": 59,
     "metadata": {},
     "output_type": "execute_result"
    }
   ],
   "source": [
    "data['body_lemma'][70]"
   ]
  },
  {
   "cell_type": "code",
   "execution_count": 60,
   "metadata": {},
   "outputs": [
    {
     "name": "stdout",
     "output_type": "stream",
     "text": [
      "------------------------ [ Query ] ------------------------\n",
      "For those of you that will be in the office after New Year's, we will begin an informal fundies meeting each day to cover what has happened in the market since we filed for bankruptcy.  We will go over pipeline flows, storage balances, weather, monthly and daily prices, etc. With a few of the Banks showing interest in showing a bid, I thought it would be good for us to begin our preparation to trade the market.\n",
      "\n",
      "Chris Gaskill will be providing the daily packet and Patti Sullivan will provide the daily operations report.   \n",
      "\n",
      "I was thinking that we should start around 9:30 each morning.\n",
      "\n",
      "Grigsby\n",
      "\n",
      "---------- [ Most similar emails (index, score)] ----------\n",
      "[(478, 1.0000001), (452, 1.0000001), (70, 1.0000001), (1055, 0.16100797), (633, 0.16100797)]\n",
      "\n",
      "------------------------ [ emails] ------------------------\n",
      "From: {'mike.grigsby@enron.com'}\n",
      "To: {'keith.holst@enron.com', 'k..allen@enron.com', 'suzanne.christiansen@enron.com', 'l..gay@enron.com', 'p..adams@enron.com', 'matt.smith@enron.com', 'p..south@enron.com', 'barry.tycholiz@enron.com', 'mog.heu@enron.com', 'm..scott@enron.com', 'matthew.lenhart@enron.com', 'zachary.mccarroll@enron.com', 'tori.kuykendall@enron.com', 'jay.reitmeyer@enron.com', 'shelly.mendel@enron.com', 'm..tholt@enron.com', 'patti.sullivan@enron.com', 'shannon.groenewold@enron.com', 'jason.wolfe@enron.com', 'frank.ermis@enron.com'}\n",
      "For those of you that will be in the office after New Year's, we will begin an informal fundies meeting each day to cover what has happened in the market since we filed for bankruptcy.  We will go over pipeline flows, storage balances, weather, monthly and daily prices, etc. With a few of the Banks showing interest in showing a bid, I thought it would be good for us to begin our preparation to trade the market.\n",
      "\n",
      "Chris Gaskill will be providing the daily packet and Patti Sullivan will provide the daily operations report.   \n",
      "\n",
      "I was thinking that we should start around 9:30 each morning.\n",
      "\n",
      "Grigsby\n",
      "---------------------------------------------------------\n",
      "From: {'mike.grigsby@enron.com'}\n",
      "To: {'keith.holst@enron.com', 'k..allen@enron.com', 'suzanne.christiansen@enron.com', 'l..gay@enron.com', 'p..adams@enron.com', 'matt.smith@enron.com', 'p..south@enron.com', 'barry.tycholiz@enron.com', 'mog.heu@enron.com', 'm..scott@enron.com', 'matthew.lenhart@enron.com', 'zachary.mccarroll@enron.com', 'tori.kuykendall@enron.com', 'jay.reitmeyer@enron.com', 'shelly.mendel@enron.com', 'm..tholt@enron.com', 'patti.sullivan@enron.com', 'shannon.groenewold@enron.com', 'jason.wolfe@enron.com', 'frank.ermis@enron.com'}\n",
      "For those of you that will be in the office after New Year's, we will begin an informal fundies meeting each day to cover what has happened in the market since we filed for bankruptcy.  We will go over pipeline flows, storage balances, weather, monthly and daily prices, etc. With a few of the Banks showing interest in showing a bid, I thought it would be good for us to begin our preparation to trade the market.\n",
      "\n",
      "Chris Gaskill will be providing the daily packet and Patti Sullivan will provide the daily operations report.   \n",
      "\n",
      "I was thinking that we should start around 9:30 each morning.\n",
      "\n",
      "Grigsby\n",
      "---------------------------------------------------------\n",
      "From: {'mike.grigsby@enron.com'}\n",
      "To: {'keith.holst@enron.com', 'k..allen@enron.com', 'suzanne.christiansen@enron.com', 'l..gay@enron.com', 'p..adams@enron.com', 'matt.smith@enron.com', 'p..south@enron.com', 'barry.tycholiz@enron.com', 'mog.heu@enron.com', 'm..scott@enron.com', 'matthew.lenhart@enron.com', 'zachary.mccarroll@enron.com', 'tori.kuykendall@enron.com', 'jay.reitmeyer@enron.com', 'shelly.mendel@enron.com', 'm..tholt@enron.com', 'patti.sullivan@enron.com', 'shannon.groenewold@enron.com', 'jason.wolfe@enron.com', 'frank.ermis@enron.com'}\n",
      "For those of you that will be in the office after New Year's, we will begin an informal fundies meeting each day to cover what has happened in the market since we filed for bankruptcy.  We will go over pipeline flows, storage balances, weather, monthly and daily prices, etc. With a few of the Banks showing interest in showing a bid, I thought it would be good for us to begin our preparation to trade the market.\n",
      "\n",
      "Chris Gaskill will be providing the daily packet and Patti Sullivan will provide the daily operations report.   \n",
      "\n",
      "I was thinking that we should start around 9:30 each morning.\n",
      "\n",
      "Grigsby\n",
      "---------------------------------------------------------\n",
      "From: {'mike.grigsby@enron.com'}\n",
      "To: {'phillip.allen@enron.com'}\n",
      "Let's begin rolling out the cash products at 7:15 am.  We should also get \n",
      "back to the cash strategy of the desk each morning.  Let's start testing the \n",
      "market, find the support and resistance each day.  It would be nice to have \n",
      "EOL change the stack manager so that we can switch a product from manage \n",
      "market depth to last trade is mid with the click of a button, and not go \n",
      "through the product properties.  I'll call them tomorrow.\n",
      "\n",
      "Let's also decide on a time to close the products each morning.  We want to \n",
      "send the message of reliability, but also allow our Ops group to balance and \n",
      "nom.  I want to begin trading the next day cash by 11:01 am every day.  This \n",
      "would stay active until 4:00.\n",
      "\n",
      "The push is for PHYSICAL.  Our edge over the market will be phys.  From risk \n",
      "to the ability to nominate and invoice, the other platforms will never see it \n",
      "coming. What are the chances that ICE and espeed will deal with el paso \n",
      "flows?  If information is the reason for EOL, then this will provide it.  It \n",
      "all seems so simple - Fixed priced physical, just when you thought it was old \n",
      "economy.  The reliable indices to big position trading to EOL market share, \n",
      "all benefit under the new mantra.\n",
      "\n",
      "Mike \n",
      "---------------------------------------------------------\n",
      "From: {'mike.grigsby@enron.com'}\n",
      "To: {'phillip.allen@enron.com'}\n",
      "Let's begin rolling out the cash products at 7:15 am.  We should also get \n",
      "back to the cash strategy of the desk each morning.  Let's start testing the \n",
      "market, find the support and resistance each day.  It would be nice to have \n",
      "EOL change the stack manager so that we can switch a product from manage \n",
      "market depth to last trade is mid with the click of a button, and not go \n",
      "through the product properties.  I'll call them tomorrow.\n",
      "\n",
      "Let's also decide on a time to close the products each morning.  We want to \n",
      "send the message of reliability, but also allow our Ops group to balance and \n",
      "nom.  I want to begin trading the next day cash by 11:01 am every day.  This \n",
      "would stay active until 4:00.\n",
      "\n",
      "The push is for PHYSICAL.  Our edge over the market will be phys.  From risk \n",
      "to the ability to nominate and invoice, the other platforms will never see it \n",
      "coming. What are the chances that ICE and espeed will deal with el paso \n",
      "flows?  If information is the reason for EOL, then this will provide it.  It \n",
      "all seems so simple - Fixed priced physical, just when you thought it was old \n",
      "economy.  The reliable indices to big position trading to EOL market share, \n",
      "all benefit under the new mantra.\n",
      "\n",
      "Mike \n",
      "---------------------------------------------------------\n"
     ]
    }
   ],
   "source": [
    "sim_indexes = get_n_most_similar(70,5)"
   ]
  },
  {
   "cell_type": "markdown",
   "metadata": {},
   "source": [
    "### Analisis Grafico"
   ]
  },
  {
   "cell_type": "code",
   "execution_count": 61,
   "metadata": {},
   "outputs": [],
   "source": [
    "sim_coords = np.asarray([ coords[x] for x in sim_indexes ])"
   ]
  },
  {
   "cell_type": "code",
   "execution_count": 68,
   "metadata": {},
   "outputs": [
    {
     "data": {
      "image/png": "[encoded data removed]",
      "text/plain": [
       "<matplotlib.figure.Figure at 0x7ffae7d9c160>"
      ]
     },
     "metadata": {},
     "output_type": "display_data"
    }
   ],
   "source": [
    "plt.scatter(coords[:, 0], coords[:, 1], c='blue', alpha=0.025)\n",
    "plt.scatter(sim_coords[:, 0], sim_coords[:, 1],marker='^', c='red',s=180)\n",
    "plt.show()"
   ]
  }
 ],
 "metadata": {
  "kernelspec": {
   "display_name": "Python 3",
   "language": "python",
   "name": "python3"
  },
  "language_info": {
   "codemirror_mode": {
    "name": "ipython",
    "version": 3
   },
   "file_extension": ".py",
   "mimetype": "text/x-python",
   "name": "python",
   "nbconvert_exporter": "python",
   "pygments_lexer": "ipython3",
   "version": "3.6.4"
  }
 },
 "nbformat": 4,
 "nbformat_minor": 2
}
